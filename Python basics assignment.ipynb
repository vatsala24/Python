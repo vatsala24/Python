{
 "cells": [
  {
   "cell_type": "markdown",
   "id": "9b481955",
   "metadata": {},
   "source": [
    "# Python Basics Assignment"
   ]
  },
  {
   "cell_type": "raw",
   "id": "b3d27865",
   "metadata": {},
   "source": [
    "Q1. Using Python script as a calculator. Create the variables n, r, p and assign them values 10, 5, and 100 respectively. Then\n",
    "evaluate the following expression in the Python console.\n",
    "𝐴 = 𝑝 (1 + 𝑟/ 100)n\n",
    "a. 100\n",
    "b. 162.89\n",
    "c. 189\n",
    "d. None of the above"
   ]
  },
  {
   "cell_type": "code",
   "execution_count": 1,
   "id": "de760a9e",
   "metadata": {},
   "outputs": [],
   "source": [
    "n = 10\n",
    "r = 5\n",
    "p = 100"
   ]
  },
  {
   "cell_type": "code",
   "execution_count": 2,
   "id": "c3007c92",
   "metadata": {},
   "outputs": [],
   "source": [
    "A = p * (1 + r/ 100) ** n"
   ]
  },
  {
   "cell_type": "code",
   "execution_count": 3,
   "id": "9a877736",
   "metadata": {},
   "outputs": [
    {
     "name": "stdout",
     "output_type": "stream",
     "text": [
      "162.8894626777442\n"
     ]
    }
   ],
   "source": [
    "print(A)"
   ]
  },
  {
   "cell_type": "raw",
   "id": "dd63dbea",
   "metadata": {},
   "source": [
    "Ans1. 162.89 - option b."
   ]
  },
  {
   "cell_type": "raw",
   "id": "7df5bedb",
   "metadata": {},
   "source": [
    "Q2. In a given string format operation, how will you print the given string.\n",
    "A = 10\n",
    "B = 20\n",
    "Str = \"There are {} students in the class, with {} who play at least one sport.\"\n",
    "a. print(string.format(a,b))\n",
    "b. print(string+a+b)\n",
    "c. print(string.format(b,a))\n",
    "d. None of the above"
   ]
  },
  {
   "cell_type": "code",
   "execution_count": 4,
   "id": "b821a21a",
   "metadata": {},
   "outputs": [],
   "source": [
    "A = 10\n",
    "B = 20"
   ]
  },
  {
   "cell_type": "code",
   "execution_count": 24,
   "id": "533c4aa3",
   "metadata": {},
   "outputs": [],
   "source": [
    "string = \"There are {} students in the class, with {} who play at least one sport.\""
   ]
  },
  {
   "cell_type": "code",
   "execution_count": 25,
   "id": "baf693b3",
   "metadata": {},
   "outputs": [
    {
     "name": "stdout",
     "output_type": "stream",
     "text": [
      "There are 10 students in the class, with 20 who play at least one sport.\n"
     ]
    }
   ],
   "source": [
    " print(string.format(A,B))"
   ]
  },
  {
   "cell_type": "code",
   "execution_count": 26,
   "id": "ffa42f06",
   "metadata": {},
   "outputs": [
    {
     "ename": "TypeError",
     "evalue": "can only concatenate str (not \"int\") to str",
     "output_type": "error",
     "traceback": [
      "\u001b[1;31m---------------------------------------------------------------------------\u001b[0m",
      "\u001b[1;31mTypeError\u001b[0m                                 Traceback (most recent call last)",
      "\u001b[1;32m~\\AppData\\Local\\Temp\\ipykernel_13580\\3200965045.py\u001b[0m in \u001b[0;36m<module>\u001b[1;34m\u001b[0m\n\u001b[1;32m----> 1\u001b[1;33m \u001b[0mprint\u001b[0m\u001b[1;33m(\u001b[0m\u001b[0mstring\u001b[0m\u001b[1;33m+\u001b[0m\u001b[0mA\u001b[0m\u001b[1;33m+\u001b[0m\u001b[0mB\u001b[0m\u001b[1;33m)\u001b[0m\u001b[1;33m\u001b[0m\u001b[1;33m\u001b[0m\u001b[0m\n\u001b[0m",
      "\u001b[1;31mTypeError\u001b[0m: can only concatenate str (not \"int\") to str"
     ]
    }
   ],
   "source": [
    " print(string+A+B)"
   ]
  },
  {
   "cell_type": "code",
   "execution_count": 27,
   "id": "2fc7eb44",
   "metadata": {},
   "outputs": [
    {
     "name": "stdout",
     "output_type": "stream",
     "text": [
      "There are 20 students in the class, with 10 who play at least one sport.\n"
     ]
    }
   ],
   "source": [
    "print(string.format(B,A))"
   ]
  },
  {
   "cell_type": "raw",
   "id": "01d471e6",
   "metadata": {},
   "source": [
    "Ans2. option a & d."
   ]
  },
  {
   "cell_type": "raw",
   "id": "18877a0b",
   "metadata": {},
   "source": [
    "Q3. In a given sample string, How do you print a double quoted string in between a regular string using the escape character?\n",
    "Sample output = It goes without saying, “Time is Money”, and none can deny it.\n",
    "a. print(“It goes without saying, \\“Time is Money\\”, and none can deny it.”)\n",
    "b. print(“It goes without saying, \\Time is Money\\, and none can deny it.”)\n",
    "c. print(“It goes without saying” + “Time is Money” + “and none can deny it.”)\n",
    "d. None of the above."
   ]
  },
  {
   "cell_type": "raw",
   "id": "7657f67e",
   "metadata": {},
   "source": [
    "Q4. What will be the output of the following code?\n",
    "x = lambda a,b: a//b\n",
    "x(10,3)\n",
    "a. 3.3333333333\n",
    "b. 3\n",
    "c. 30\n",
    "d. 1000"
   ]
  },
  {
   "cell_type": "code",
   "execution_count": 37,
   "id": "ea532a2d",
   "metadata": {},
   "outputs": [],
   "source": [
    "x = lambda a,b: a//b"
   ]
  },
  {
   "cell_type": "code",
   "execution_count": 38,
   "id": "d086bd8b",
   "metadata": {},
   "outputs": [
    {
     "data": {
      "text/plain": [
       "3"
      ]
     },
     "execution_count": 38,
     "metadata": {},
     "output_type": "execute_result"
    }
   ],
   "source": [
    "x(10,3)"
   ]
  },
  {
   "cell_type": "raw",
   "id": "ed4f0e31",
   "metadata": {},
   "source": [
    "Ans3. 3 - option b"
   ]
  },
  {
   "cell_type": "raw",
   "id": "602013d4",
   "metadata": {},
   "source": [
    "Q5. What will be the output of the following code?\n",
    "A = 10\n",
    "B = 12\n",
    "print(\"Smaller\") if A == B else print(\"Greater\") if A < B else print(\"True\")\n",
    "a. True\n",
    "b. Smaller\n",
    "c. Greater\n",
    "d. None of the above"
   ]
  },
  {
   "cell_type": "code",
   "execution_count": 39,
   "id": "2b2a0a5a",
   "metadata": {},
   "outputs": [
    {
     "name": "stdout",
     "output_type": "stream",
     "text": [
      "Greater\n"
     ]
    }
   ],
   "source": [
    "A = 10\n",
    "B = 12\n",
    "print(\"Smaller\") if A == B else print(\"Greater\") if A < B else print(\"True\")"
   ]
  },
  {
   "cell_type": "raw",
   "id": "5526383d",
   "metadata": {},
   "source": [
    "Ans4. Greater - option c"
   ]
  },
  {
   "cell_type": "code",
   "execution_count": null,
   "id": "52b5f547",
   "metadata": {},
   "outputs": [],
   "source": [
    "Q6. What will be the output of the following code?\n",
    "import os\n",
    "import numpy as np\n",
    "my_list1 = [2,7,3,5,4,6]\n",
    "print (my_list1)\n",
    "arr_1 = numpy.array(my_list1, dtype = int)\n",
    "print(arr_1)\n",
    "a. [2 7 3 5 4 6]\n",
    "b. TypeError\n",
    "c. NameError: name 'numpy' is not defined\n",
    "d. None of the above"
   ]
  },
  {
   "cell_type": "code",
   "execution_count": 41,
   "id": "7ac17166",
   "metadata": {},
   "outputs": [
    {
     "name": "stdout",
     "output_type": "stream",
     "text": [
      "[2, 7, 3, 5, 4, 6]\n"
     ]
    },
    {
     "ename": "NameError",
     "evalue": "name 'numpy' is not defined",
     "output_type": "error",
     "traceback": [
      "\u001b[1;31m---------------------------------------------------------------------------\u001b[0m",
      "\u001b[1;31mNameError\u001b[0m                                 Traceback (most recent call last)",
      "\u001b[1;32m~\\AppData\\Local\\Temp\\ipykernel_13580\\1827406637.py\u001b[0m in \u001b[0;36m<module>\u001b[1;34m\u001b[0m\n\u001b[0;32m      3\u001b[0m \u001b[0mmy_list1\u001b[0m \u001b[1;33m=\u001b[0m \u001b[1;33m[\u001b[0m\u001b[1;36m2\u001b[0m\u001b[1;33m,\u001b[0m\u001b[1;36m7\u001b[0m\u001b[1;33m,\u001b[0m\u001b[1;36m3\u001b[0m\u001b[1;33m,\u001b[0m\u001b[1;36m5\u001b[0m\u001b[1;33m,\u001b[0m\u001b[1;36m4\u001b[0m\u001b[1;33m,\u001b[0m\u001b[1;36m6\u001b[0m\u001b[1;33m]\u001b[0m\u001b[1;33m\u001b[0m\u001b[1;33m\u001b[0m\u001b[0m\n\u001b[0;32m      4\u001b[0m \u001b[0mprint\u001b[0m \u001b[1;33m(\u001b[0m\u001b[0mmy_list1\u001b[0m\u001b[1;33m)\u001b[0m\u001b[1;33m\u001b[0m\u001b[1;33m\u001b[0m\u001b[0m\n\u001b[1;32m----> 5\u001b[1;33m \u001b[0marr_1\u001b[0m \u001b[1;33m=\u001b[0m \u001b[0mnumpy\u001b[0m\u001b[1;33m.\u001b[0m\u001b[0marray\u001b[0m\u001b[1;33m(\u001b[0m\u001b[0mmy_list1\u001b[0m\u001b[1;33m,\u001b[0m \u001b[0mdtype\u001b[0m \u001b[1;33m=\u001b[0m \u001b[0mint\u001b[0m\u001b[1;33m)\u001b[0m\u001b[1;33m\u001b[0m\u001b[1;33m\u001b[0m\u001b[0m\n\u001b[0m\u001b[0;32m      6\u001b[0m \u001b[0mprint\u001b[0m\u001b[1;33m(\u001b[0m\u001b[0marr_1\u001b[0m\u001b[1;33m)\u001b[0m\u001b[1;33m\u001b[0m\u001b[1;33m\u001b[0m\u001b[0m\n",
      "\u001b[1;31mNameError\u001b[0m: name 'numpy' is not defined"
     ]
    }
   ],
   "source": [
    "import os\n",
    "import numpy as np\n",
    "my_list1 = [2,7,3,5,4,6]\n",
    "print (my_list1)\n",
    "arr_1 = numpy.array(my_list1, dtype = int)\n",
    "print(arr_1)"
   ]
  },
  {
   "cell_type": "raw",
   "id": "d81d2e4d",
   "metadata": {},
   "source": [
    "Ans6. NameError - option c"
   ]
  },
  {
   "cell_type": "code",
   "execution_count": null,
   "id": "fbce8dbe",
   "metadata": {},
   "outputs": [],
   "source": [
    "Q7. Create a string called ‘string’ with the value as “Machine Learning”. Which code(s) is/are appropriate to slice the \n",
    "substring “Learn”?\n",
    "a. string[slice(13,8,1)]\n",
    "b. string[slice(1,8,1)]\n",
    "c. string[8:14]\n",
    "d. string[slice(8,13,1)]"
   ]
  },
  {
   "cell_type": "code",
   "execution_count": 42,
   "id": "63fdbecb",
   "metadata": {},
   "outputs": [],
   "source": [
    "string1 = 'Machine learning'"
   ]
  },
  {
   "cell_type": "code",
   "execution_count": 43,
   "id": "01359d94",
   "metadata": {},
   "outputs": [
    {
     "data": {
      "text/plain": [
       "''"
      ]
     },
     "execution_count": 43,
     "metadata": {},
     "output_type": "execute_result"
    }
   ],
   "source": [
    "string1[slice(13,8,1)]"
   ]
  },
  {
   "cell_type": "code",
   "execution_count": 44,
   "id": "f64b1338",
   "metadata": {},
   "outputs": [
    {
     "data": {
      "text/plain": [
       "'achine '"
      ]
     },
     "execution_count": 44,
     "metadata": {},
     "output_type": "execute_result"
    }
   ],
   "source": [
    "string1[slice(1,8,1)]"
   ]
  },
  {
   "cell_type": "code",
   "execution_count": 45,
   "id": "26a10554",
   "metadata": {},
   "outputs": [
    {
     "ename": "SyntaxError",
     "evalue": "invalid syntax (2747607968.py, line 1)",
     "output_type": "error",
     "traceback": [
      "\u001b[1;36m  File \u001b[1;32m\"C:\\Users\\user\\AppData\\Local\\Temp\\ipykernel_13580\\2747607968.py\"\u001b[1;36m, line \u001b[1;32m1\u001b[0m\n\u001b[1;33m    string1[slice(8:14)]\u001b[0m\n\u001b[1;37m                   ^\u001b[0m\n\u001b[1;31mSyntaxError\u001b[0m\u001b[1;31m:\u001b[0m invalid syntax\n"
     ]
    }
   ],
   "source": [
    "string1[slice(8:14)]"
   ]
  },
  {
   "cell_type": "code",
   "execution_count": 46,
   "id": "677f9149",
   "metadata": {},
   "outputs": [
    {
     "data": {
      "text/plain": [
       "'learn'"
      ]
     },
     "execution_count": 46,
     "metadata": {},
     "output_type": "execute_result"
    }
   ],
   "source": [
    "string1[slice(8,13,1)]"
   ]
  },
  {
   "cell_type": "raw",
   "id": "38f57189",
   "metadata": {},
   "source": [
    "Ans7. string1[slice(8,13,1)] - option d"
   ]
  },
  {
   "cell_type": "raw",
   "id": "90174f7f",
   "metadata": {},
   "source": [
    "Q8. Create a sequence of numbers from 10 to 25 and increment by 4. What is the index\n",
    "of the value 18?\n",
    "a. 3\n",
    "b. 2\n",
    "c. 0\n",
    "d. 1"
   ]
  },
  {
   "cell_type": "code",
   "execution_count": 50,
   "id": "a3563ffc",
   "metadata": {},
   "outputs": [
    {
     "name": "stdout",
     "output_type": "stream",
     "text": [
      "[10, 14, 18, 22]\n"
     ]
    }
   ],
   "source": [
    "sequence = range (10,25,4)\n",
    "print(list(sequence))"
   ]
  },
  {
   "cell_type": "code",
   "execution_count": 52,
   "id": "e4f517df",
   "metadata": {},
   "outputs": [
    {
     "name": "stdout",
     "output_type": "stream",
     "text": [
      "2\n"
     ]
    }
   ],
   "source": [
    "index = list(sequence).index(18)\n",
    "print(index)"
   ]
  },
  {
   "cell_type": "raw",
   "id": "ae2092a0",
   "metadata": {},
   "source": [
    "Ans8. 2 - option b"
   ]
  },
  {
   "cell_type": "code",
   "execution_count": null,
   "id": "72671e1e",
   "metadata": {},
   "outputs": [],
   "source": [
    "Which of the following is true with respect to the below codes?\n",
    "num1 = 5**4\n",
    "num2 = pow(5,4)\n",
    "print(num1,num2)\n",
    "a. num1 = num2\n",
    "b. num1 ≠ num2\n",
    "c. num1 < num2\n",
    "d. num1 > num2"
   ]
  },
  {
   "cell_type": "code",
   "execution_count": 53,
   "id": "fd563cac",
   "metadata": {},
   "outputs": [
    {
     "name": "stdout",
     "output_type": "stream",
     "text": [
      "625 625\n"
     ]
    }
   ],
   "source": [
    "num1 = 5**4\n",
    "num2 = pow(5,4)\n",
    "print(num1,num2)"
   ]
  },
  {
   "cell_type": "raw",
   "id": "83e6bed8",
   "metadata": {},
   "source": [
    "Ans9. num1 = num2 - opttion a"
   ]
  },
  {
   "cell_type": "code",
   "execution_count": null,
   "id": "746041dd",
   "metadata": {},
   "outputs": [],
   "source": [
    "Q10.A Python NameError exception is raised when: -\n",
    "a. Trying to access a variable which has not been defined\n",
    "b. Trying to access a key in a dictionary that does not exist\n",
    "c. Accessing a column with misspelled column name\n",
    "d. Accessing the function from a module that has not been imported"
   ]
  },
  {
   "cell_type": "raw",
   "id": "c6271d16",
   "metadata": {},
   "source": [
    "Ans10. option a & c"
   ]
  },
  {
   "cell_type": "code",
   "execution_count": null,
   "id": "24d53055",
   "metadata": {},
   "outputs": [],
   "source": [
    "Q11.What type of exception will be raised for the code given below?\n",
    "x = \"string\"\n",
    "x(int)\n",
    "\n",
    "a. NameError\n",
    "b. KeyError\n",
    "c. ValueError\n",
    "d. AttributeError"
   ]
  },
  {
   "cell_type": "code",
   "execution_count": 56,
   "id": "013f6b79",
   "metadata": {},
   "outputs": [
    {
     "ename": "TypeError",
     "evalue": "'str' object is not callable",
     "output_type": "error",
     "traceback": [
      "\u001b[1;31m---------------------------------------------------------------------------\u001b[0m",
      "\u001b[1;31mTypeError\u001b[0m                                 Traceback (most recent call last)",
      "\u001b[1;32m~\\AppData\\Local\\Temp\\ipykernel_13580\\873496136.py\u001b[0m in \u001b[0;36m<module>\u001b[1;34m\u001b[0m\n\u001b[0;32m      1\u001b[0m \u001b[0mx\u001b[0m \u001b[1;33m=\u001b[0m \u001b[1;34m\"string\"\u001b[0m\u001b[1;33m\u001b[0m\u001b[1;33m\u001b[0m\u001b[0m\n\u001b[1;32m----> 2\u001b[1;33m \u001b[0mx\u001b[0m\u001b[1;33m(\u001b[0m\u001b[0mint\u001b[0m\u001b[1;33m)\u001b[0m\u001b[1;33m\u001b[0m\u001b[1;33m\u001b[0m\u001b[0m\n\u001b[0m",
      "\u001b[1;31mTypeError\u001b[0m: 'str' object is not callable"
     ]
    }
   ],
   "source": [
    "x = \"string\"\n",
    "x(int)"
   ]
  },
  {
   "cell_type": "raw",
   "id": "c972518a",
   "metadata": {},
   "source": [
    "Ans11. Attribute Error - option d"
   ]
  },
  {
   "cell_type": "raw",
   "id": "5af72e12",
   "metadata": {},
   "source": [
    "Q12.A FileNotFoundError exception is raised by operating system errors when: -\n",
    "a. Trying to create a file or directory which already exists\n",
    "b. A file or directory is requested but does not exist in the working directory\n",
    "c. Trying to run an operation without the adequate access rights\n",
    "d. A directory operation, os.listdir() is requested on something which is not a\n",
    "directory"
   ]
  },
  {
   "cell_type": "raw",
   "id": "75c84090",
   "metadata": {},
   "source": [
    "Ans12. option b & d"
   ]
  },
  {
   "cell_type": "raw",
   "id": "c040e66f",
   "metadata": {},
   "source": [
    "Q13.Consider a variable Z. The value of Z is \"ID-5632\". Data type of Z is: -\n",
    "a. Complex\n",
    "b. Character\n",
    "c. Integer\n",
    "d. Boolean"
   ]
  },
  {
   "cell_type": "raw",
   "id": "e2fc6473",
   "metadata": {},
   "source": [
    "Ans13. Character - option b"
   ]
  },
  {
   "cell_type": "raw",
   "id": "0147fc9e",
   "metadata": {},
   "source": [
    "Q14.Which of the following variable(s) are character data type?\n",
    "a. K= “4”\n",
    "b. J= “Welcome”\n",
    "c. L= “?”\n",
    "d. All of the above"
   ]
  },
  {
   "cell_type": "raw",
   "id": "bb2b41fa",
   "metadata": {},
   "source": [
    "Ans14. All of the above - option d"
   ]
  },
  {
   "cell_type": "raw",
   "id": "1d12c972",
   "metadata": {},
   "source": [
    "Q15.Choose the symbol/s that does not have the ability to convert any values to string?\n",
    "a. ( )\n",
    "b. “ ”\n",
    "c. {}\n",
    "d. #"
   ]
  },
  {
   "cell_type": "raw",
   "id": "8f8c5b09",
   "metadata": {},
   "source": [
    "Ans15. # - option d"
   ]
  },
  {
   "cell_type": "code",
   "execution_count": null,
   "id": "d31c6c63",
   "metadata": {},
   "outputs": [],
   "source": [
    "Q16.Create a dictionary ‘Country’ that maps the following countries to their capitals\n",
    "respectively:\n",
    "Country- India China Japan Qatar France\n",
    "State- Delhi Beijing Tokyo Doha Marseilles\n",
    "Find 2 commands to replace “Marseilles” with “Paris” is:"
   ]
  },
  {
   "cell_type": "code",
   "execution_count": 58,
   "id": "973b5356",
   "metadata": {},
   "outputs": [],
   "source": [
    "Country = {\"India\": \"Delhi\", \"China\": \"Beijing\", \"Japan\": \"Tokyo\", \"Qatar\": \"Doha\", \"France\": \"Marseilles\"}"
   ]
  },
  {
   "cell_type": "code",
   "execution_count": 59,
   "id": "1faf1005",
   "metadata": {},
   "outputs": [],
   "source": [
    "Country [\"France\"] = \"Paris\""
   ]
  },
  {
   "cell_type": "code",
   "execution_count": 60,
   "id": "5f106ee1",
   "metadata": {},
   "outputs": [],
   "source": [
    "Country.update ({\"France\": \"Paris\"})"
   ]
  },
  {
   "cell_type": "raw",
   "id": "544f5665",
   "metadata": {},
   "source": []
  },
  {
   "cell_type": "raw",
   "id": "7f7cd3af",
   "metadata": {},
   "source": [
    "Q17. Create the tuples given below\n",
    "tuple_1 = (1,5,6,7,8)\n",
    "tuple_2 = (8,9,4)\n",
    "Identify which of the following code does not work on a tuple.\n",
    "a. sum(tuple_1)\n",
    "b. len(tuple_2)\n",
    "c. tuple_2 + tuple_1\n",
    "d. tuple_1[3] = 45"
   ]
  },
  {
   "cell_type": "code",
   "execution_count": 61,
   "id": "10d8bc33",
   "metadata": {},
   "outputs": [],
   "source": [
    "tuple_1 = (1,5,6,7,8)\n",
    "tuple_2 = (8,9,4)"
   ]
  },
  {
   "cell_type": "code",
   "execution_count": 62,
   "id": "5cf04bed",
   "metadata": {},
   "outputs": [
    {
     "data": {
      "text/plain": [
       "27"
      ]
     },
     "execution_count": 62,
     "metadata": {},
     "output_type": "execute_result"
    }
   ],
   "source": [
    "sum(tuple_1)"
   ]
  },
  {
   "cell_type": "code",
   "execution_count": 63,
   "id": "b88981b8",
   "metadata": {},
   "outputs": [
    {
     "data": {
      "text/plain": [
       "3"
      ]
     },
     "execution_count": 63,
     "metadata": {},
     "output_type": "execute_result"
    }
   ],
   "source": [
    "len(tuple_2)"
   ]
  },
  {
   "cell_type": "code",
   "execution_count": 64,
   "id": "d6578090",
   "metadata": {},
   "outputs": [
    {
     "data": {
      "text/plain": [
       "(8, 9, 4, 1, 5, 6, 7, 8)"
      ]
     },
     "execution_count": 64,
     "metadata": {},
     "output_type": "execute_result"
    }
   ],
   "source": [
    "tuple_2 + tuple_1"
   ]
  },
  {
   "cell_type": "code",
   "execution_count": 65,
   "id": "a8ad8a89",
   "metadata": {},
   "outputs": [
    {
     "ename": "TypeError",
     "evalue": "'tuple' object does not support item assignment",
     "output_type": "error",
     "traceback": [
      "\u001b[1;31m---------------------------------------------------------------------------\u001b[0m",
      "\u001b[1;31mTypeError\u001b[0m                                 Traceback (most recent call last)",
      "\u001b[1;32m~\\AppData\\Local\\Temp\\ipykernel_13580\\1900781246.py\u001b[0m in \u001b[0;36m<module>\u001b[1;34m\u001b[0m\n\u001b[1;32m----> 1\u001b[1;33m \u001b[0mtuple_1\u001b[0m\u001b[1;33m[\u001b[0m\u001b[1;36m3\u001b[0m\u001b[1;33m]\u001b[0m \u001b[1;33m=\u001b[0m \u001b[1;36m45\u001b[0m\u001b[1;33m\u001b[0m\u001b[1;33m\u001b[0m\u001b[0m\n\u001b[0m",
      "\u001b[1;31mTypeError\u001b[0m: 'tuple' object does not support item assignment"
     ]
    }
   ],
   "source": [
    "tuple_1[3] = 45"
   ]
  },
  {
   "cell_type": "raw",
   "id": "acc2f34a",
   "metadata": {},
   "source": [
    "Ans17. tuple_1[3] = 45 - option d"
   ]
  },
  {
   "cell_type": "raw",
   "id": "32c187d1",
   "metadata": {},
   "source": [
    "Q18. How many elements in the following data structure?\n",
    "S={1,2,3,4,4,4,5,6}"
   ]
  },
  {
   "cell_type": "code",
   "execution_count": 67,
   "id": "9a1cd3e4",
   "metadata": {},
   "outputs": [
    {
     "name": "stdout",
     "output_type": "stream",
     "text": [
      "{1, 2, 3, 4, 5, 6}\n"
     ]
    }
   ],
   "source": [
    "S={1,2,3,4,4,4,5,6}\n",
    "print(S)"
   ]
  },
  {
   "cell_type": "raw",
   "id": "5319e145",
   "metadata": {},
   "source": [
    "Ans18. 6 Elements"
   ]
  },
  {
   "cell_type": "raw",
   "id": "bbfd5ce5",
   "metadata": {},
   "source": [
    "Q19.Write a function which finds all pythagorean triplets of triangles whose sides are no\n",
    "greater than a natural number N "
   ]
  },
  {
   "cell_type": "code",
   "execution_count": null,
   "id": "79971b01",
   "metadata": {},
   "outputs": [],
   "source": []
  }
 ],
 "metadata": {
  "kernelspec": {
   "display_name": "Python 3 (ipykernel)",
   "language": "python",
   "name": "python3"
  },
  "language_info": {
   "codemirror_mode": {
    "name": "ipython",
    "version": 3
   },
   "file_extension": ".py",
   "mimetype": "text/x-python",
   "name": "python",
   "nbconvert_exporter": "python",
   "pygments_lexer": "ipython3",
   "version": "3.9.13"
  }
 },
 "nbformat": 4,
 "nbformat_minor": 5
}
